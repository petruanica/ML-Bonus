{
 "cells": [
  {
   "cell_type": "markdown",
   "metadata": {},
   "source": [
    "# American Census"
   ]
  },
  {
   "cell_type": "code",
   "execution_count": 2,
   "metadata": {},
   "outputs": [],
   "source": [
    "import numpy as np\n",
    "import pandas as pd\n",
    "import matplotlib.pyplot as plt\n",
    "from sklearn import preprocessing\n",
    "\n",
    "from sklearn.tree import DecisionTreeClassifier\n",
    "from sklearn.dummy import DummyClassifier\n",
    "from sklearn.naive_bayes import GaussianNB\n",
    "from sklearn.neighbors import KNeighborsClassifier\n",
    "from sklearn.linear_model import LogisticRegression\n",
    "from sklearn.linear_model import SGDClassifier\n",
    "from sklearn.svm import SVC"
   ]
  },
  {
   "cell_type": "markdown",
   "metadata": {},
   "source": [
    "### Load data"
   ]
  },
  {
   "cell_type": "code",
   "execution_count": 3,
   "metadata": {},
   "outputs": [],
   "source": [
    "X_train = pd.read_csv(\"AmericanCensus/X_train.csv\")\n",
    "y_train = pd.read_csv(\"AmericanCensus/y_train.csv\")\n",
    "\n",
    "X_test = pd.read_csv(\"AmericanCensus/X_test.csv\")"
   ]
  },
  {
   "cell_type": "markdown",
   "metadata": {},
   "source": [
    "### Data exploration"
   ]
  },
  {
   "cell_type": "markdown",
   "metadata": {},
   "source": [
    "#### Question 3.1.1"
   ]
  },
  {
   "cell_type": "code",
   "execution_count": 4,
   "metadata": {},
   "outputs": [],
   "source": [
    "# Aim to keep your answers structured for the reviewers\n",
    "numbers = [1, 2, 3]"
   ]
  },
  {
   "cell_type": "markdown",
   "source": [
    "### Data preparation"
   ],
   "metadata": {
    "collapsed": false
   }
  },
  {
   "cell_type": "markdown",
   "source": [
    "#### Question 3.2.1"
   ],
   "metadata": {
    "collapsed": false
   }
  },
  {
   "cell_type": "code",
   "execution_count": 5,
   "outputs": [],
   "source": [
    "result = pd.concat([X_train, X_test])\n",
    "age_mean = result[\"age\"].mean()\n",
    "education_mean = result[\"education-num\"].mean()\n",
    "hours_mean = result[\"hours-per-week\"].mean()"
   ],
   "metadata": {
    "collapsed": false
   }
  },
  {
   "cell_type": "code",
   "execution_count": 6,
   "outputs": [
    {
     "data": {
      "text/plain": "       age  education-num  hours-per-week     workclass      education  \\\n0       30            9.0              40       Private        HS-grad   \n1       77           10.0               6       unknown   Some-college   \n2       44           12.0              50       Private     Assoc-acdm   \n3       53           10.0              50       Private   Some-college   \n4       41           10.0              40   Federal-gov   Some-college   \n...    ...            ...             ...           ...            ...   \n16275   31           11.0              30       Private      Assoc-voc   \n16276   37           13.0              40     State-gov      Bachelors   \n16277   45           14.0              40     State-gov        Masters   \n16278   32            9.0              40       Private        HS-grad   \n16279   58            7.0              50       Private           11th   \n\n            marital-status          occupation    relationship  \\\n0       Married-civ-spouse               Sales       Own-child   \n1       Married-civ-spouse             unknown         Husband   \n2            Never-married      Prof-specialty       Unmarried   \n3            Never-married        Adm-clerical   Not-in-family   \n4       Married-civ-spouse    Transport-moving            Wife   \n...                    ...                 ...             ...   \n16275   Married-civ-spouse    Transport-moving         Husband   \n16276        Never-married      Prof-specialty   Not-in-family   \n16277             Divorced     Exec-managerial       Unmarried   \n16278        Never-married   Machine-op-inspct   Not-in-family   \n16279   Married-civ-spouse    Transport-moving         Husband   \n\n                      race      sex  native-country  \n0       Asian-Pac-Islander   Female   United-States  \n1                    White     Male   United-States  \n2                    Black   Female   United-States  \n3                    White   Female   United-States  \n4                    White   Female   United-States  \n...                    ...      ...             ...  \n16275                White     Male   United-States  \n16276                White   Female   United-States  \n16277                White   Female   United-States  \n16278                White     Male   United-States  \n16279                White     Male   United-States  \n\n[16280 rows x 11 columns]",
      "text/html": "<div>\n<style scoped>\n    .dataframe tbody tr th:only-of-type {\n        vertical-align: middle;\n    }\n\n    .dataframe tbody tr th {\n        vertical-align: top;\n    }\n\n    .dataframe thead th {\n        text-align: right;\n    }\n</style>\n<table border=\"1\" class=\"dataframe\">\n  <thead>\n    <tr style=\"text-align: right;\">\n      <th></th>\n      <th>age</th>\n      <th>education-num</th>\n      <th>hours-per-week</th>\n      <th>workclass</th>\n      <th>education</th>\n      <th>marital-status</th>\n      <th>occupation</th>\n      <th>relationship</th>\n      <th>race</th>\n      <th>sex</th>\n      <th>native-country</th>\n    </tr>\n  </thead>\n  <tbody>\n    <tr>\n      <th>0</th>\n      <td>30</td>\n      <td>9.0</td>\n      <td>40</td>\n      <td>Private</td>\n      <td>HS-grad</td>\n      <td>Married-civ-spouse</td>\n      <td>Sales</td>\n      <td>Own-child</td>\n      <td>Asian-Pac-Islander</td>\n      <td>Female</td>\n      <td>United-States</td>\n    </tr>\n    <tr>\n      <th>1</th>\n      <td>77</td>\n      <td>10.0</td>\n      <td>6</td>\n      <td>unknown</td>\n      <td>Some-college</td>\n      <td>Married-civ-spouse</td>\n      <td>unknown</td>\n      <td>Husband</td>\n      <td>White</td>\n      <td>Male</td>\n      <td>United-States</td>\n    </tr>\n    <tr>\n      <th>2</th>\n      <td>44</td>\n      <td>12.0</td>\n      <td>50</td>\n      <td>Private</td>\n      <td>Assoc-acdm</td>\n      <td>Never-married</td>\n      <td>Prof-specialty</td>\n      <td>Unmarried</td>\n      <td>Black</td>\n      <td>Female</td>\n      <td>United-States</td>\n    </tr>\n    <tr>\n      <th>3</th>\n      <td>53</td>\n      <td>10.0</td>\n      <td>50</td>\n      <td>Private</td>\n      <td>Some-college</td>\n      <td>Never-married</td>\n      <td>Adm-clerical</td>\n      <td>Not-in-family</td>\n      <td>White</td>\n      <td>Female</td>\n      <td>United-States</td>\n    </tr>\n    <tr>\n      <th>4</th>\n      <td>41</td>\n      <td>10.0</td>\n      <td>40</td>\n      <td>Federal-gov</td>\n      <td>Some-college</td>\n      <td>Married-civ-spouse</td>\n      <td>Transport-moving</td>\n      <td>Wife</td>\n      <td>White</td>\n      <td>Female</td>\n      <td>United-States</td>\n    </tr>\n    <tr>\n      <th>...</th>\n      <td>...</td>\n      <td>...</td>\n      <td>...</td>\n      <td>...</td>\n      <td>...</td>\n      <td>...</td>\n      <td>...</td>\n      <td>...</td>\n      <td>...</td>\n      <td>...</td>\n      <td>...</td>\n    </tr>\n    <tr>\n      <th>16275</th>\n      <td>31</td>\n      <td>11.0</td>\n      <td>30</td>\n      <td>Private</td>\n      <td>Assoc-voc</td>\n      <td>Married-civ-spouse</td>\n      <td>Transport-moving</td>\n      <td>Husband</td>\n      <td>White</td>\n      <td>Male</td>\n      <td>United-States</td>\n    </tr>\n    <tr>\n      <th>16276</th>\n      <td>37</td>\n      <td>13.0</td>\n      <td>40</td>\n      <td>State-gov</td>\n      <td>Bachelors</td>\n      <td>Never-married</td>\n      <td>Prof-specialty</td>\n      <td>Not-in-family</td>\n      <td>White</td>\n      <td>Female</td>\n      <td>United-States</td>\n    </tr>\n    <tr>\n      <th>16277</th>\n      <td>45</td>\n      <td>14.0</td>\n      <td>40</td>\n      <td>State-gov</td>\n      <td>Masters</td>\n      <td>Divorced</td>\n      <td>Exec-managerial</td>\n      <td>Unmarried</td>\n      <td>White</td>\n      <td>Female</td>\n      <td>United-States</td>\n    </tr>\n    <tr>\n      <th>16278</th>\n      <td>32</td>\n      <td>9.0</td>\n      <td>40</td>\n      <td>Private</td>\n      <td>HS-grad</td>\n      <td>Never-married</td>\n      <td>Machine-op-inspct</td>\n      <td>Not-in-family</td>\n      <td>White</td>\n      <td>Male</td>\n      <td>United-States</td>\n    </tr>\n    <tr>\n      <th>16279</th>\n      <td>58</td>\n      <td>7.0</td>\n      <td>50</td>\n      <td>Private</td>\n      <td>11th</td>\n      <td>Married-civ-spouse</td>\n      <td>Transport-moving</td>\n      <td>Husband</td>\n      <td>White</td>\n      <td>Male</td>\n      <td>United-States</td>\n    </tr>\n  </tbody>\n</table>\n<p>16280 rows × 11 columns</p>\n</div>"
     },
     "execution_count": 6,
     "metadata": {},
     "output_type": "execute_result"
    }
   ],
   "source": [
    "X_train[\"age\"].fillna(age_mean, inplace=True)\n",
    "X_train[\"education-num\"].fillna(education_mean, inplace=True)\n",
    "X_train[\"hours-per-week\"].fillna(hours_mean, inplace=True)\n",
    "X_train[\"workclass\"].fillna(\"unknown\", inplace=True)\n",
    "X_train[\"education\"].fillna(\"unknown\", inplace=True)\n",
    "X_train[\"marital-status\"].fillna(\"unknown\", inplace=True)\n",
    "X_train[\"occupation\"].fillna(\"unknown\", inplace=True)\n",
    "X_train[\"relationship\"].fillna(\"unknown\", inplace=True)\n",
    "X_train[\"race\"].fillna(\"unknown\", inplace=True)\n",
    "X_train[\"sex\"].fillna(\"unknown\", inplace=True)\n",
    "X_train[\"native-country\"].fillna(\"unknown\", inplace=True)\n",
    "\n",
    "X_train"
   ],
   "metadata": {
    "collapsed": false
   }
  },
  {
   "cell_type": "code",
   "execution_count": 7,
   "outputs": [
    {
     "data": {
      "text/plain": "       age  education-num  hours-per-week          workclass      education  \\\n0       74           10.0              40       Self-emp-inc   Some-college   \n1       17            8.0              15            Private           12th   \n2       60           10.0              32            Private   Some-college   \n3       62            9.0              42            Private        HS-grad   \n4       52           10.0              65            Private   Some-college   \n...    ...            ...             ...                ...            ...   \n14742   30           12.0              50            Private     Assoc-acdm   \n14743   27           12.0              40            Private     Assoc-acdm   \n14744   39            9.0              40          State-gov        HS-grad   \n14745   36            9.0              45          Local-gov        HS-grad   \n14746   51           10.0              75   Self-emp-not-inc   Some-college   \n\n            marital-status          occupation    relationship    race  \\\n0                  Widowed     Exec-managerial       Unmarried   White   \n1            Never-married   Handlers-cleaners       Own-child   White   \n2       Married-civ-spouse        Craft-repair         Husband   Other   \n3                  Widowed        Adm-clerical   Not-in-family   White   \n4       Married-civ-spouse               Sales         Husband   White   \n...                    ...                 ...             ...     ...   \n14742   Married-civ-spouse     Exec-managerial         Husband   White   \n14743        Never-married     Exec-managerial   Not-in-family   White   \n14744        Never-married       Other-service   Not-in-family   Black   \n14745   Married-civ-spouse     Exec-managerial         Husband   White   \n14746   Married-civ-spouse     Farming-fishing         Husband   White   \n\n           sex  native-country  \n0         Male   United-States  \n1         Male   United-States  \n2         Male   United-States  \n3       Female   United-States  \n4         Male   United-States  \n...        ...             ...  \n14742     Male   United-States  \n14743     Male   United-States  \n14744     Male   United-States  \n14745     Male   United-States  \n14746     Male   United-States  \n\n[14747 rows x 11 columns]",
      "text/html": "<div>\n<style scoped>\n    .dataframe tbody tr th:only-of-type {\n        vertical-align: middle;\n    }\n\n    .dataframe tbody tr th {\n        vertical-align: top;\n    }\n\n    .dataframe thead th {\n        text-align: right;\n    }\n</style>\n<table border=\"1\" class=\"dataframe\">\n  <thead>\n    <tr style=\"text-align: right;\">\n      <th></th>\n      <th>age</th>\n      <th>education-num</th>\n      <th>hours-per-week</th>\n      <th>workclass</th>\n      <th>education</th>\n      <th>marital-status</th>\n      <th>occupation</th>\n      <th>relationship</th>\n      <th>race</th>\n      <th>sex</th>\n      <th>native-country</th>\n    </tr>\n  </thead>\n  <tbody>\n    <tr>\n      <th>0</th>\n      <td>74</td>\n      <td>10.0</td>\n      <td>40</td>\n      <td>Self-emp-inc</td>\n      <td>Some-college</td>\n      <td>Widowed</td>\n      <td>Exec-managerial</td>\n      <td>Unmarried</td>\n      <td>White</td>\n      <td>Male</td>\n      <td>United-States</td>\n    </tr>\n    <tr>\n      <th>1</th>\n      <td>17</td>\n      <td>8.0</td>\n      <td>15</td>\n      <td>Private</td>\n      <td>12th</td>\n      <td>Never-married</td>\n      <td>Handlers-cleaners</td>\n      <td>Own-child</td>\n      <td>White</td>\n      <td>Male</td>\n      <td>United-States</td>\n    </tr>\n    <tr>\n      <th>2</th>\n      <td>60</td>\n      <td>10.0</td>\n      <td>32</td>\n      <td>Private</td>\n      <td>Some-college</td>\n      <td>Married-civ-spouse</td>\n      <td>Craft-repair</td>\n      <td>Husband</td>\n      <td>Other</td>\n      <td>Male</td>\n      <td>United-States</td>\n    </tr>\n    <tr>\n      <th>3</th>\n      <td>62</td>\n      <td>9.0</td>\n      <td>42</td>\n      <td>Private</td>\n      <td>HS-grad</td>\n      <td>Widowed</td>\n      <td>Adm-clerical</td>\n      <td>Not-in-family</td>\n      <td>White</td>\n      <td>Female</td>\n      <td>United-States</td>\n    </tr>\n    <tr>\n      <th>4</th>\n      <td>52</td>\n      <td>10.0</td>\n      <td>65</td>\n      <td>Private</td>\n      <td>Some-college</td>\n      <td>Married-civ-spouse</td>\n      <td>Sales</td>\n      <td>Husband</td>\n      <td>White</td>\n      <td>Male</td>\n      <td>United-States</td>\n    </tr>\n    <tr>\n      <th>...</th>\n      <td>...</td>\n      <td>...</td>\n      <td>...</td>\n      <td>...</td>\n      <td>...</td>\n      <td>...</td>\n      <td>...</td>\n      <td>...</td>\n      <td>...</td>\n      <td>...</td>\n      <td>...</td>\n    </tr>\n    <tr>\n      <th>14742</th>\n      <td>30</td>\n      <td>12.0</td>\n      <td>50</td>\n      <td>Private</td>\n      <td>Assoc-acdm</td>\n      <td>Married-civ-spouse</td>\n      <td>Exec-managerial</td>\n      <td>Husband</td>\n      <td>White</td>\n      <td>Male</td>\n      <td>United-States</td>\n    </tr>\n    <tr>\n      <th>14743</th>\n      <td>27</td>\n      <td>12.0</td>\n      <td>40</td>\n      <td>Private</td>\n      <td>Assoc-acdm</td>\n      <td>Never-married</td>\n      <td>Exec-managerial</td>\n      <td>Not-in-family</td>\n      <td>White</td>\n      <td>Male</td>\n      <td>United-States</td>\n    </tr>\n    <tr>\n      <th>14744</th>\n      <td>39</td>\n      <td>9.0</td>\n      <td>40</td>\n      <td>State-gov</td>\n      <td>HS-grad</td>\n      <td>Never-married</td>\n      <td>Other-service</td>\n      <td>Not-in-family</td>\n      <td>Black</td>\n      <td>Male</td>\n      <td>United-States</td>\n    </tr>\n    <tr>\n      <th>14745</th>\n      <td>36</td>\n      <td>9.0</td>\n      <td>45</td>\n      <td>Local-gov</td>\n      <td>HS-grad</td>\n      <td>Married-civ-spouse</td>\n      <td>Exec-managerial</td>\n      <td>Husband</td>\n      <td>White</td>\n      <td>Male</td>\n      <td>United-States</td>\n    </tr>\n    <tr>\n      <th>14746</th>\n      <td>51</td>\n      <td>10.0</td>\n      <td>75</td>\n      <td>Self-emp-not-inc</td>\n      <td>Some-college</td>\n      <td>Married-civ-spouse</td>\n      <td>Farming-fishing</td>\n      <td>Husband</td>\n      <td>White</td>\n      <td>Male</td>\n      <td>United-States</td>\n    </tr>\n  </tbody>\n</table>\n<p>14747 rows × 11 columns</p>\n</div>"
     },
     "execution_count": 7,
     "metadata": {},
     "output_type": "execute_result"
    }
   ],
   "source": [
    "X_test[\"age\"].fillna(age_mean, inplace=True)\n",
    "X_test[\"education-num\"].fillna(education_mean, inplace=True)\n",
    "X_test[\"hours-per-week\"].fillna(hours_mean, inplace=True)\n",
    "X_test[\"workclass\"].fillna(\"unknown\", inplace=True)\n",
    "X_test[\"education\"].fillna(\"unknown\", inplace=True)\n",
    "X_test[\"marital-status\"].fillna(\"unknown\", inplace=True)\n",
    "X_test[\"occupation\"].fillna(\"unknown\", inplace=True)\n",
    "X_test[\"relationship\"].fillna(\"unknown\", inplace=True)\n",
    "X_test[\"race\"].fillna(\"unknown\", inplace=True)\n",
    "X_test[\"sex\"].fillna(\"unknown\", inplace=True)\n",
    "X_test[\"native-country\"].fillna(\"unknown\", inplace=True)\n",
    "\n",
    "X_test"
   ],
   "metadata": {
    "collapsed": false
   }
  },
  {
   "cell_type": "markdown",
   "source": [
    "#### Question 3.2.2\n"
   ],
   "metadata": {
    "collapsed": false
   }
  },
  {
   "cell_type": "code",
   "execution_count": 8,
   "metadata": {},
   "outputs": [],
   "source": [
    "workclass_list = {\n",
    "    \"Private\", \"Self-emp-not-inc\", \"Self-emp-inc\", \"Federal-gov\", \"Local-gov\", \"State-gov\", \"Without-pay\", \"Never-worked\"\n",
    "}\n",
    "education_list = {\n",
    "    \"Bachelors\", \"Some-college\", \"11th\", \"HS-grad\", \"Prof-school\", \"Assoc-acdm\", \"Assoc-voc\", \"9th\", \"7th-8th\", \"12th\", \"Masters\", \"1st-4th\", \"10th\", \"Doctorate\", \"5th-6th\", \"Preschool\"\n",
    "}\n",
    "marital_list = {\n",
    "    \"Married-civ-spouse\", \"Divorced\", \"Never-married\", \"Separated\", \"Widowed\", \"Married-spouse-absent\", \"Married-AF-spouse\"\n",
    "}\n",
    "occupation_list = {\n",
    "    \"Tech-support\", \"Craft-repair\", \"Other-service\", \"Sales\", \"Exec-managerial\", \"Prof-specialty\", \"Handlers-cleaners\", \"Machine-op-inspct\", \"Adm-clerical\", \"Farming-fishing\", \"Transport-moving\", \"Priv-house-serv\", \"Protective-serv\", \"Armed-Forces\"\n",
    "}\n",
    "relationship_list = {\n",
    "    \"Wife\", \"Own-child\", \"Husband\", \"Not-in-family\", \"Other-relative\", \"Unmarried\"\n",
    "}\n",
    "race_list = {\n",
    "    \"White\", \"Asian-Pac-Islander\", \"Amer-Indian-Eskimo\", \"Other\", \"Black\"\n",
    "}\n",
    "sex_list = {\n",
    "    \"Male\", \"Female\" \n",
    "}\n",
    "country_list = {\n",
    "    \"United-States\", \"Cambodia\", \"England\", \"Puerto-Rico\", \"Canada\", \"Germany\", \"Outlying-US(Guam-USVI-etc)\", \"India\", \"Japan\", \"Greece\", \"South\", \"China\", \"Cuba\", \"Iran\", \"Honduras\", \"Philippines\", \"Italy\", \"Poland\", \"Jamaica\", \"Vietnam\", \"Mexico\", \"Portugal\", \"Ireland\", \"France\", \"Dominican-Republic\", \"Laos\", \"Ecuador\", \"Taiwan\", \"Haiti\", \"Columbia\", \"Hungary\", \"Guatemala\", \"Nicaragua\", \"Scotland\", \"Thailand\", \"Yugoslavia\", \"El-Salvador\", \"Trinadad&Tobago\", \"Peru\", \"Hong\", \"Holand-Netherlands\"\n",
    "}\n",
    "indices = range(1, 50)"
   ]
  },
  {
   "cell_type": "code",
   "execution_count": 9,
   "outputs": [
    {
     "data": {
      "text/plain": "       age  education-num  hours-per-week  workclass  education  \\\n0       30            9.0              40          7          7   \n1       77           10.0               6          0          6   \n2       44           12.0              50          7          3   \n3       53           10.0              50          7          6   \n4       41           10.0              40          6          6   \n...    ...            ...             ...        ...        ...   \n16275   31           11.0              30          7         10   \n16276   37           13.0              40          4         13   \n16277   45           14.0              40          4         12   \n16278   32            9.0              40          7          7   \n16279   58            7.0              50          7          8   \n\n       marital-status  occupation  relationship  race  sex  native-country  \n0                   7           8             6     5    1              40  \n1                   7           0             4     3    2              40  \n2                   4           6             2     1    1              40  \n3                   4           4             5     3    1              40  \n4                   7          14             1     3    1              40  \n...               ...         ...           ...   ...  ...             ...  \n16275               7          14             4     3    2              40  \n16276               4           6             5     3    1              40  \n16277               3          12             2     3    1              40  \n16278               4          10             5     3    2              40  \n16279               7          14             4     3    2              40  \n\n[16280 rows x 11 columns]",
      "text/html": "<div>\n<style scoped>\n    .dataframe tbody tr th:only-of-type {\n        vertical-align: middle;\n    }\n\n    .dataframe tbody tr th {\n        vertical-align: top;\n    }\n\n    .dataframe thead th {\n        text-align: right;\n    }\n</style>\n<table border=\"1\" class=\"dataframe\">\n  <thead>\n    <tr style=\"text-align: right;\">\n      <th></th>\n      <th>age</th>\n      <th>education-num</th>\n      <th>hours-per-week</th>\n      <th>workclass</th>\n      <th>education</th>\n      <th>marital-status</th>\n      <th>occupation</th>\n      <th>relationship</th>\n      <th>race</th>\n      <th>sex</th>\n      <th>native-country</th>\n    </tr>\n  </thead>\n  <tbody>\n    <tr>\n      <th>0</th>\n      <td>30</td>\n      <td>9.0</td>\n      <td>40</td>\n      <td>7</td>\n      <td>7</td>\n      <td>7</td>\n      <td>8</td>\n      <td>6</td>\n      <td>5</td>\n      <td>1</td>\n      <td>40</td>\n    </tr>\n    <tr>\n      <th>1</th>\n      <td>77</td>\n      <td>10.0</td>\n      <td>6</td>\n      <td>0</td>\n      <td>6</td>\n      <td>7</td>\n      <td>0</td>\n      <td>4</td>\n      <td>3</td>\n      <td>2</td>\n      <td>40</td>\n    </tr>\n    <tr>\n      <th>2</th>\n      <td>44</td>\n      <td>12.0</td>\n      <td>50</td>\n      <td>7</td>\n      <td>3</td>\n      <td>4</td>\n      <td>6</td>\n      <td>2</td>\n      <td>1</td>\n      <td>1</td>\n      <td>40</td>\n    </tr>\n    <tr>\n      <th>3</th>\n      <td>53</td>\n      <td>10.0</td>\n      <td>50</td>\n      <td>7</td>\n      <td>6</td>\n      <td>4</td>\n      <td>4</td>\n      <td>5</td>\n      <td>3</td>\n      <td>1</td>\n      <td>40</td>\n    </tr>\n    <tr>\n      <th>4</th>\n      <td>41</td>\n      <td>10.0</td>\n      <td>40</td>\n      <td>6</td>\n      <td>6</td>\n      <td>7</td>\n      <td>14</td>\n      <td>1</td>\n      <td>3</td>\n      <td>1</td>\n      <td>40</td>\n    </tr>\n    <tr>\n      <th>...</th>\n      <td>...</td>\n      <td>...</td>\n      <td>...</td>\n      <td>...</td>\n      <td>...</td>\n      <td>...</td>\n      <td>...</td>\n      <td>...</td>\n      <td>...</td>\n      <td>...</td>\n      <td>...</td>\n    </tr>\n    <tr>\n      <th>16275</th>\n      <td>31</td>\n      <td>11.0</td>\n      <td>30</td>\n      <td>7</td>\n      <td>10</td>\n      <td>7</td>\n      <td>14</td>\n      <td>4</td>\n      <td>3</td>\n      <td>2</td>\n      <td>40</td>\n    </tr>\n    <tr>\n      <th>16276</th>\n      <td>37</td>\n      <td>13.0</td>\n      <td>40</td>\n      <td>4</td>\n      <td>13</td>\n      <td>4</td>\n      <td>6</td>\n      <td>5</td>\n      <td>3</td>\n      <td>1</td>\n      <td>40</td>\n    </tr>\n    <tr>\n      <th>16277</th>\n      <td>45</td>\n      <td>14.0</td>\n      <td>40</td>\n      <td>4</td>\n      <td>12</td>\n      <td>3</td>\n      <td>12</td>\n      <td>2</td>\n      <td>3</td>\n      <td>1</td>\n      <td>40</td>\n    </tr>\n    <tr>\n      <th>16278</th>\n      <td>32</td>\n      <td>9.0</td>\n      <td>40</td>\n      <td>7</td>\n      <td>7</td>\n      <td>4</td>\n      <td>10</td>\n      <td>5</td>\n      <td>3</td>\n      <td>2</td>\n      <td>40</td>\n    </tr>\n    <tr>\n      <th>16279</th>\n      <td>58</td>\n      <td>7.0</td>\n      <td>50</td>\n      <td>7</td>\n      <td>8</td>\n      <td>7</td>\n      <td>14</td>\n      <td>4</td>\n      <td>3</td>\n      <td>2</td>\n      <td>40</td>\n    </tr>\n  </tbody>\n</table>\n<p>16280 rows × 11 columns</p>\n</div>"
     },
     "execution_count": 9,
     "metadata": {},
     "output_type": "execute_result"
    }
   ],
   "source": [
    "X_train = X_train.apply(lambda x: x.str.strip() if x.dtype == \"object\" else x)\n",
    "\n",
    "X_train[\"workclass\"] = X_train[\"workclass\"].replace(workclass_list, indices[:len(workclass_list)])\n",
    "X_train[\"education\"] = X_train[\"education\"].replace(education_list, indices[:len(education_list)])\n",
    "X_train[\"marital-status\"] = X_train[\"marital-status\"].replace(marital_list, indices[:len(marital_list)])\n",
    "X_train[\"occupation\"] = X_train[\"occupation\"].replace(occupation_list, indices[:len(occupation_list)])\n",
    "X_train[\"relationship\"] = X_train[\"relationship\"].replace(relationship_list, indices[:len(relationship_list)])\n",
    "X_train[\"race\"] = X_train[\"race\"].replace(race_list, indices[:len(race_list)])\n",
    "X_train[\"sex\"] = X_train[\"sex\"].replace(sex_list, indices[:len(sex_list)])\n",
    "X_train[\"native-country\"] = X_train[\"native-country\"].replace(country_list, indices[:len(country_list)])\n",
    "X_train = X_train.replace([\"unknown\"], 0)\n",
    "X_train"
   ],
   "metadata": {
    "collapsed": false
   }
  },
  {
   "cell_type": "code",
   "execution_count": 10,
   "outputs": [
    {
     "data": {
      "text/plain": "       age  education-num  hours-per-week  workclass  education  \\\n0       74           10.0              40          3          6   \n1       17            8.0              15          7          5   \n2       60           10.0              32          7          6   \n3       62            9.0              42          7          7   \n4       52           10.0              65          7          6   \n...    ...            ...             ...        ...        ...   \n14742   30           12.0              50          7          3   \n14743   27           12.0              40          7          3   \n14744   39            9.0              40          4          7   \n14745   36            9.0              45          5          7   \n14746   51           10.0              75          1          6   \n\n       marital-status  occupation  relationship  race  sex  native-country  \n0                   5          12             2     3    2              40  \n1                   4           3             6     3    2              40  \n2                   7           1             4     2    2              40  \n3                   5           4             5     3    1              40  \n4                   7           8             4     3    2              40  \n...               ...         ...           ...   ...  ...             ...  \n14742               7          12             4     3    2              40  \n14743               4          12             5     3    2              40  \n14744               4          11             5     1    2              40  \n14745               7          12             4     3    2              40  \n14746               7           9             4     3    2              40  \n\n[14747 rows x 11 columns]",
      "text/html": "<div>\n<style scoped>\n    .dataframe tbody tr th:only-of-type {\n        vertical-align: middle;\n    }\n\n    .dataframe tbody tr th {\n        vertical-align: top;\n    }\n\n    .dataframe thead th {\n        text-align: right;\n    }\n</style>\n<table border=\"1\" class=\"dataframe\">\n  <thead>\n    <tr style=\"text-align: right;\">\n      <th></th>\n      <th>age</th>\n      <th>education-num</th>\n      <th>hours-per-week</th>\n      <th>workclass</th>\n      <th>education</th>\n      <th>marital-status</th>\n      <th>occupation</th>\n      <th>relationship</th>\n      <th>race</th>\n      <th>sex</th>\n      <th>native-country</th>\n    </tr>\n  </thead>\n  <tbody>\n    <tr>\n      <th>0</th>\n      <td>74</td>\n      <td>10.0</td>\n      <td>40</td>\n      <td>3</td>\n      <td>6</td>\n      <td>5</td>\n      <td>12</td>\n      <td>2</td>\n      <td>3</td>\n      <td>2</td>\n      <td>40</td>\n    </tr>\n    <tr>\n      <th>1</th>\n      <td>17</td>\n      <td>8.0</td>\n      <td>15</td>\n      <td>7</td>\n      <td>5</td>\n      <td>4</td>\n      <td>3</td>\n      <td>6</td>\n      <td>3</td>\n      <td>2</td>\n      <td>40</td>\n    </tr>\n    <tr>\n      <th>2</th>\n      <td>60</td>\n      <td>10.0</td>\n      <td>32</td>\n      <td>7</td>\n      <td>6</td>\n      <td>7</td>\n      <td>1</td>\n      <td>4</td>\n      <td>2</td>\n      <td>2</td>\n      <td>40</td>\n    </tr>\n    <tr>\n      <th>3</th>\n      <td>62</td>\n      <td>9.0</td>\n      <td>42</td>\n      <td>7</td>\n      <td>7</td>\n      <td>5</td>\n      <td>4</td>\n      <td>5</td>\n      <td>3</td>\n      <td>1</td>\n      <td>40</td>\n    </tr>\n    <tr>\n      <th>4</th>\n      <td>52</td>\n      <td>10.0</td>\n      <td>65</td>\n      <td>7</td>\n      <td>6</td>\n      <td>7</td>\n      <td>8</td>\n      <td>4</td>\n      <td>3</td>\n      <td>2</td>\n      <td>40</td>\n    </tr>\n    <tr>\n      <th>...</th>\n      <td>...</td>\n      <td>...</td>\n      <td>...</td>\n      <td>...</td>\n      <td>...</td>\n      <td>...</td>\n      <td>...</td>\n      <td>...</td>\n      <td>...</td>\n      <td>...</td>\n      <td>...</td>\n    </tr>\n    <tr>\n      <th>14742</th>\n      <td>30</td>\n      <td>12.0</td>\n      <td>50</td>\n      <td>7</td>\n      <td>3</td>\n      <td>7</td>\n      <td>12</td>\n      <td>4</td>\n      <td>3</td>\n      <td>2</td>\n      <td>40</td>\n    </tr>\n    <tr>\n      <th>14743</th>\n      <td>27</td>\n      <td>12.0</td>\n      <td>40</td>\n      <td>7</td>\n      <td>3</td>\n      <td>4</td>\n      <td>12</td>\n      <td>5</td>\n      <td>3</td>\n      <td>2</td>\n      <td>40</td>\n    </tr>\n    <tr>\n      <th>14744</th>\n      <td>39</td>\n      <td>9.0</td>\n      <td>40</td>\n      <td>4</td>\n      <td>7</td>\n      <td>4</td>\n      <td>11</td>\n      <td>5</td>\n      <td>1</td>\n      <td>2</td>\n      <td>40</td>\n    </tr>\n    <tr>\n      <th>14745</th>\n      <td>36</td>\n      <td>9.0</td>\n      <td>45</td>\n      <td>5</td>\n      <td>7</td>\n      <td>7</td>\n      <td>12</td>\n      <td>4</td>\n      <td>3</td>\n      <td>2</td>\n      <td>40</td>\n    </tr>\n    <tr>\n      <th>14746</th>\n      <td>51</td>\n      <td>10.0</td>\n      <td>75</td>\n      <td>1</td>\n      <td>6</td>\n      <td>7</td>\n      <td>9</td>\n      <td>4</td>\n      <td>3</td>\n      <td>2</td>\n      <td>40</td>\n    </tr>\n  </tbody>\n</table>\n<p>14747 rows × 11 columns</p>\n</div>"
     },
     "execution_count": 10,
     "metadata": {},
     "output_type": "execute_result"
    }
   ],
   "source": [
    "X_test = X_test.apply(lambda x: x.str.strip() if x.dtype == \"object\" else x)\n",
    "\n",
    "X_test[\"workclass\"] = X_test[\"workclass\"].replace(workclass_list, indices[:len(workclass_list)])\n",
    "X_test[\"education\"] = X_test[\"education\"].replace(education_list, indices[:len(education_list)])\n",
    "X_test[\"marital-status\"] = X_test[\"marital-status\"].replace(marital_list, indices[:len(marital_list)])\n",
    "X_test[\"occupation\"] = X_test[\"occupation\"].replace(occupation_list, indices[:len(occupation_list)])\n",
    "X_test[\"relationship\"] = X_test[\"relationship\"].replace(relationship_list, indices[:len(relationship_list)])\n",
    "X_test[\"race\"] = X_test[\"race\"].replace(race_list, indices[:len(race_list)])\n",
    "X_test[\"sex\"] = X_test[\"sex\"].replace(sex_list, indices[:len(sex_list)])\n",
    "X_test[\"native-country\"] = X_test[\"native-country\"].replace(country_list, indices[:len(country_list)])\n",
    "X_test"
   ],
   "metadata": {
    "collapsed": false
   }
  },
  {
   "cell_type": "markdown",
   "source": [
    "#### Question 3.2.3"
   ],
   "metadata": {
    "collapsed": false
   }
  },
  {
   "cell_type": "code",
   "execution_count": 11,
   "outputs": [],
   "source": [
    "result = pd.concat([X_train, X_test])\n",
    "scaler = preprocessing.StandardScaler().fit(result)\n",
    "X_train = scaler.transform(X_train)\n",
    "X_test = scaler.transform(X_test)"
   ],
   "metadata": {
    "collapsed": false
   }
  },
  {
   "cell_type": "code",
   "execution_count": 12,
   "outputs": [],
   "source": [
    "# from sklearn.decomposition import PCA\n",
    "# pca = PCA(n_components=4)\n",
    "# principalComponents = pca.fit_transform(X_train)\n",
    "# principalDf = pd.DataFrame(data = principalComponents\n",
    "#              , columns = ['pc 1', 'pc 2', 'pc 3', 'pc 4'])\n",
    "# principalDf"
   ],
   "metadata": {
    "collapsed": false
   }
  },
  {
   "cell_type": "markdown",
   "metadata": {},
   "source": [
    "### Experiments"
   ]
  },
  {
   "cell_type": "markdown",
   "source": [
    "#### Question 3.3.1"
   ],
   "metadata": {
    "collapsed": false
   }
  },
  {
   "cell_type": "code",
   "execution_count": 13,
   "outputs": [],
   "source": [
    "random_state = 42\n",
    "models = {\n",
    "    \"GaussianNB\": GaussianNB(),\n",
    "    \"DummyClassifier\": DummyClassifier(strategy=\"most_frequent\"),\n",
    "    \"DecisionTreeClassifier\": DecisionTreeClassifier(max_depth=None, min_samples_leaf=2, random_state=random_state),\n",
    "    \"KNeighborsClassifier\": KNeighborsClassifier(n_neighbors=3, weights=\"distance\"),\n",
    "    \"SVM\": SVC(C=10, kernel=\"poly\", degree=3, gamma=\"scale\", random_state=42),\n",
    "    \"LogisticRegression\": SGDClassifier(loss=\"log_loss\", alpha=10, learning_rate=\"constant\", eta0=0.1, penalty=\"none\", random_state=random_state),\n",
    "}"
   ],
   "metadata": {
    "collapsed": false
   }
  },
  {
   "cell_type": "code",
   "execution_count": 14,
   "outputs": [],
   "source": [
    "from sklearn.model_selection import KFold\n",
    "from sklearn.model_selection import cross_validate\n",
    "\n",
    "\n",
    "def k_fold_fit_and_evaluate(X, y, model, scoring_method, n_splits=5):\n",
    "    cv = KFold(n_splits=n_splits, random_state=42, shuffle=True)\n",
    "    scores = cross_validate(model, X, y, scoring=scoring_method, cv=cv, n_jobs=-1)\n",
    "    return scores[\"test_score\"]"
   ],
   "metadata": {
    "collapsed": false
   }
  },
  {
   "cell_type": "code",
   "execution_count": 19,
   "outputs": [
    {
     "name": "stdout",
     "output_type": "stream",
     "text": [
      "GaussianNB\n",
      "0.7837837837837838 0.011051391115946397\n",
      "DummyClassifier\n",
      "0.7592137592137592 0.005106044825705236\n",
      "DecisionTreeClassifier\n",
      "0.789066339066339 0.006824542708762226\n",
      "KNeighborsClassifier\n",
      "0.8011056511056509 0.009568518394153154\n",
      "SVM\n",
      "0.8212530712530711 0.005872441475536643\n",
      "LogisticRegression\n",
      "0.8052825552825553 0.0050353566417491976\n"
     ]
    }
   ],
   "source": [
    "from sklearn.metrics import accuracy_score, make_scorer\n",
    "\n",
    "n_splits = 5\n",
    "scoring_method_accuracy = make_scorer(lambda prediction, true_target: accuracy_score(true_target, prediction))\n",
    "\n",
    "cells = [[\"Model\", \"Mean\", \"Accuracy\"]]\n",
    "\n",
    "for name, model in models.items():\n",
    "    print(name)\n",
    "    metrics_accuracy = k_fold_fit_and_evaluate(X_train, y_train, model, scoring_method_accuracy, n_splits=n_splits)\n",
    "    print(np.mean(metrics_accuracy), np.std(metrics_accuracy))\n",
    "    cells.append([name, np.mean(metrics_accuracy), np.std(metrics_accuracy)])"
   ],
   "metadata": {
    "collapsed": false
   }
  },
  {
   "cell_type": "markdown",
   "metadata": {},
   "source": [
    "#### Question 3.3.2"
   ]
  },
  {
   "cell_type": "code",
   "execution_count": 30,
   "outputs": [
    {
     "data": {
      "text/plain": "[]"
     },
     "execution_count": 30,
     "metadata": {},
     "output_type": "execute_result"
    },
    {
     "data": {
      "text/plain": "<Figure size 640x480 with 1 Axes>",
      "image/png": "[encoded data removed]"
     },
     "metadata": {},
     "output_type": "display_data"
    }
   ],
   "source": [
    "fig, axs = plt.subplots(1, 1)\n",
    "plt.table(cellText=cells, loc=\"top\")\n",
    "axs.axis('off')\n",
    "plt.plot()"
   ],
   "metadata": {
    "collapsed": false
   }
  },
  {
   "cell_type": "markdown",
   "source": [
    "\n",
    "#### Question 3.3.6"
   ],
   "metadata": {
    "collapsed": false
   }
  },
  {
   "cell_type": "code",
   "execution_count": 16,
   "metadata": {},
   "outputs": [],
   "source": [
    "# TODO\n",
    "group_number = 0 # TODO replace this with the number of your group on Brightspace\n",
    "predictions = np.array([-1] * len(X_test)) # TODO replace this with you own predictions\n",
    "\n",
    "pd.DataFrame(predictions).to_csv(f\"{group_number}_classes_problem_census.txt\", index=False, header=False)"
   ]
  }
 ],
 "metadata": {
  "kernelspec": {
   "display_name": "Python 3.8.5 ('base')",
   "language": "python",
   "name": "python3"
  },
  "language_info": {
   "codemirror_mode": {
    "name": "ipython",
    "version": 3
   },
   "file_extension": ".py",
   "mimetype": "text/x-python",
   "name": "python",
   "nbconvert_exporter": "python",
   "pygments_lexer": "ipython3",
   "version": "3.8.5"
  },
  "vscode": {
   "interpreter": {
    "hash": "f940bd7320ed2ee42fbca6127eafd8950d5e01dc3337d1e259cede402f1d3537"
   }
  }
 },
 "nbformat": 4,
 "nbformat_minor": 4
}
